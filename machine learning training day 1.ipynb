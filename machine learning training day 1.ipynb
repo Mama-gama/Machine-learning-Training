{
 "cells": [
  {
   "cell_type": "code",
   "execution_count": 1,
   "id": "12da81c7",
   "metadata": {},
   "outputs": [
    {
     "name": "stdout",
     "output_type": "stream",
     "text": [
      "Enter you NameMamatha J\n",
      "Hello Mamatha J hope you're fine\n"
     ]
    }
   ],
   "source": [
    "name=input(\"Enter you Name\")\n",
    "print(\"Hello \"+ name +\" \"+\"hope you're fine\")"
   ]
  },
  {
   "cell_type": "code",
   "execution_count": 3,
   "id": "f02a61ba",
   "metadata": {},
   "outputs": [
    {
     "name": "stdout",
     "output_type": "stream",
     "text": [
      "type of a <class 'int'>\n",
      "type of b <class 'float'>\n",
      "type of c <class 'complex'>\n",
      "type of d <class 'str'>\n"
     ]
    }
   ],
   "source": [
    "a=1\n",
    "b=2.3\n",
    "c=4+5j\n",
    "d=\"welcome\"\n",
    "print('type of a', type(a))\n",
    "print('type of b', type(b))\n",
    "print('type of c', type(c))\n",
    "print('type of d', type(d))"
   ]
  },
  {
   "cell_type": "code",
   "execution_count": 7,
   "id": "c38cb672",
   "metadata": {},
   "outputs": [
    {
     "name": "stdout",
     "output_type": "stream",
     "text": [
      "hellolearners how\n",
      " how is it going?lol\n"
     ]
    }
   ],
   "source": [
    "t=\"hellolearners\"\n",
    "s=\" how is it going?\"\n",
    "r=s[0:4]\n",
    "q=t[3:6]\n",
    "print(t+r)\n",
    "print(s+q)"
   ]
  },
  {
   "cell_type": "code",
   "execution_count": 14,
   "id": "afe14c69",
   "metadata": {},
   "outputs": [
    {
     "name": "stdout",
     "output_type": "stream",
     "text": [
      "[1, 2, 3, 4]\n",
      "[5, 6]\n",
      "[1, 2]\n",
      "[1, 7, 2, 3, 4, 5, 6]\n",
      "[1, 7, 2, 3, 4, 5, 6, 11]\n",
      "[1, 3, 6]\n"
     ]
    }
   ],
   "source": [
    "list1=[1,2,3,4,5,6]\n",
    "print(list1[0:4])\n",
    "print(list1[4:])\n",
    "print(list1[:2])\n",
    "list1.insert(1,7)\n",
    "print(list1)\n",
    "list1.append(11)\n",
    "print(list1)\n",
    "print(list1[0:8:3])"
   ]
  },
  {
   "cell_type": "code",
   "execution_count": 17,
   "id": "c3222c91",
   "metadata": {},
   "outputs": [
    {
     "name": "stdout",
     "output_type": "stream",
     "text": [
      "<class 'tuple'>\n",
      "('hi', 'python', 2)\n",
      "('hi', 'python')\n",
      "('hi', 'python', 2, 'hi', 'python', 2)\n",
      "('hi', 'python', 2, 'hi', 'python', 2, 'hi', 'python', 2)\n"
     ]
    }
   ],
   "source": [
    "tup=(\"hi\",\"python\",2)\n",
    "print(type(tup))\n",
    "print(tup[0:])\n",
    "print(tup[0:2])\n",
    "print(tup+tup)\n",
    "print(tup*3)\n"
   ]
  },
  {
   "cell_type": "code",
   "execution_count": 25,
   "id": "834ab727",
   "metadata": {},
   "outputs": [
    {
     "name": "stdout",
     "output_type": "stream",
     "text": [
      "[(1, 'asd'), (2, 'sdf'), (3, 'dfg'), (4, 'fgh'), (5, 'ghj'), (6, 'hjk'), (7, 'jkl')]\n"
     ]
    }
   ],
   "source": [
    "roll_no=[1,2,3,4,5,6,7]\n",
    "names=['asd','sdf','dfg','fgh','ghj','hjk','jkl']\n",
    "data=list(zip(roll_no,names))\n",
    "print(data)"
   ]
  },
  {
   "cell_type": "code",
   "execution_count": 26,
   "id": "94572188",
   "metadata": {},
   "outputs": [
    {
     "name": "stdout",
     "output_type": "stream",
     "text": [
      "{1: 'Jimmy', 2: 'alex', 3: 'john', 4: 'mike'}\n",
      "Jimmy\n",
      "alex\n",
      "dict_keys([1, 2, 3, 4])\n",
      "dict_values(['Jimmy', 'alex', 'john', 'mike'])\n"
     ]
    }
   ],
   "source": [
    "d={1:\"Jimmy\",2:\"alex\",3:\"john\",4:\"mike\"}\n",
    "print(d)\n",
    "print(d[1])\n",
    "print(d[2])\n",
    "print(d.keys())\n",
    "print(d.values())"
   ]
  },
  {
   "cell_type": "code",
   "execution_count": 4,
   "id": "3d602971",
   "metadata": {},
   "outputs": [
    {
     "name": "stdout",
     "output_type": "stream",
     "text": [
      "{2, 3, 10, 'James', 'Python'}\n",
      "{3, 10, 'James', 'Python'}\n"
     ]
    }
   ],
   "source": [
    "set1=set()\n",
    "set2={\"James\",2,3,\"Python\",\"James\",2,3}\n",
    "set2.add(10)\n",
    "print(set2)\n",
    "set2.remove(2)\n",
    "print(set2)"
   ]
  },
  {
   "cell_type": "code",
   "execution_count": null,
   "id": "e6ef3beb",
   "metadata": {},
   "outputs": [],
   "source": []
  }
 ],
 "metadata": {
  "kernelspec": {
   "display_name": "Python 3",
   "language": "python",
   "name": "python3"
  },
  "language_info": {
   "codemirror_mode": {
    "name": "ipython",
    "version": 3
   },
   "file_extension": ".py",
   "mimetype": "text/x-python",
   "name": "python",
   "nbconvert_exporter": "python",
   "pygments_lexer": "ipython3",
   "version": "3.8.8"
  }
 },
 "nbformat": 4,
 "nbformat_minor": 5
}
