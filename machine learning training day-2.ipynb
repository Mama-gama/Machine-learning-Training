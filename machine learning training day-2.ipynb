{
 "cells": [
  {
   "cell_type": "code",
   "execution_count": 1,
   "id": "245450c8",
   "metadata": {},
   "outputs": [
    {
     "name": "stdout",
     "output_type": "stream",
     "text": [
      "Enter your age : 20\n",
      "hello voter!\n",
      "Please cast your vote\n"
     ]
    }
   ],
   "source": [
    "#nested if for voter eligibility checker:\n",
    "age=float(input(\"Enter your age : \"))\n",
    "if age<0:\n",
    "    print(\"Invalid age\")\n",
    "elif age>0 and age<18:\n",
    "    if age>=0 and age<2:\n",
    "        print(\"Hey baby!\")\n",
    "        print(\"You're not yet eligible to vote\")\n",
    "    elif age>=2 and age<6:\n",
    "        print(\"Hey toddler!\")\n",
    "        print(\"You're not yet eligible to vote\")\n",
    "    elif age>=6 and age<12:\n",
    "        print(\"Hey kid!\")\n",
    "        print(\"You're not yet eligible to vote\")\n",
    "    elif age>=12 and age<18:\n",
    "        print(\"Hey Teenager!\")\n",
    "        print(\"You're not yet eligible to vote\")\n",
    "elif age>=18 and age<111:\n",
    "    print(\"hello voter!\")\n",
    "    print(\"Please cast your vote\")\n",
    "else:\n",
    "    print(\"woah, how come you are still alive?\")"
   ]
  },
  {
   "cell_type": "code",
   "execution_count": 2,
   "id": "1b09b14f",
   "metadata": {},
   "outputs": [
    {
     "name": "stdout",
     "output_type": "stream",
     "text": [
      "the sum of squares is :  10045\n"
     ]
    }
   ],
   "source": [
    "#example of for loop in list \n",
    "num=[1,2,3,45,6,7,89]\n",
    "sum_=0\n",
    "for i in num:\n",
    "    sum_=sum_+i**2\n",
    "print(\"the sum of squares is : \", sum_)"
   ]
  },
  {
   "cell_type": "code",
   "execution_count": 1,
   "id": "4572f3ba",
   "metadata": {},
   "outputs": [
    {
     "name": "stdout",
     "output_type": "stream",
     "text": [
      "Enter your name ZIANNA\n",
      "Z\n",
      "I\n",
      "A\n",
      "N\n",
      "N\n",
      "A\n"
     ]
    }
   ],
   "source": [
    "#string iteration\n",
    "str_=input(\"Enter your name \")\n",
    "for i in str_:\n",
    "    print (i)  "
   ]
  },
  {
   "cell_type": "code",
   "execution_count": 2,
   "id": "e400a91b",
   "metadata": {},
   "outputs": [
    {
     "name": "stdout",
     "output_type": "stream",
     "text": [
      "1\n",
      "2\n",
      "3\n",
      "4\n",
      "5\n",
      "7\n",
      "8\n",
      "9\n",
      "10\n"
     ]
    }
   ],
   "source": [
    "#for loop\n",
    "for i in range(1,11):\n",
    "    if i==6:\n",
    "        continue\n",
    "    else:\n",
    "        print(i)"
   ]
  },
  {
   "cell_type": "code",
   "execution_count": 3,
   "id": "9b681275",
   "metadata": {},
   "outputs": [
    {
     "name": "stdout",
     "output_type": "stream",
     "text": [
      "ziana\n",
      "23\n",
      "anya\n",
      "17\n"
     ]
    }
   ],
   "source": [
    "#built-in function(bif)\n",
    "# maximum (max) & minimum (min) function\n",
    "names=(\"anya\",\"rihana\",\"rihaan\",\"ziana\")\n",
    "ages=(21,19,23,17)\n",
    "print(max(names))\n",
    "print(max(ages))\n",
    "print(min(names))\n",
    "print(min(ages))"
   ]
  },
  {
   "cell_type": "code",
   "execution_count": 4,
   "id": "94dc3990",
   "metadata": {},
   "outputs": [
    {
     "name": "stdout",
     "output_type": "stream",
     "text": [
      "6.7\n"
     ]
    }
   ],
   "source": [
    "#built-in functions(bif)\n",
    "#absolute(abs) function\n",
    "neg=-6.7\n",
    "print(abs(neg))"
   ]
  },
  {
   "cell_type": "code",
   "execution_count": 5,
   "id": "dda0d2b5",
   "metadata": {},
   "outputs": [
    {
     "name": "stdout",
     "output_type": "stream",
     "text": [
      "81\n",
      "1\n"
     ]
    }
   ],
   "source": [
    "#built-in functions(bif)\n",
    "#power function\n",
    "print(pow(3,4)) #3 power 4\n",
    "print(pow(2,4,5)) #2 power 4 modulus 5"
   ]
  },
  {
   "cell_type": "code",
   "execution_count": 6,
   "id": "294a323c",
   "metadata": {},
   "outputs": [
    {
     "name": "stdout",
     "output_type": "stream",
     "text": [
      "['__class__', '__delattr__', '__dict__', '__dir__', '__doc__', '__eq__', '__format__', '__ge__', '__getattribute__', '__gt__', '__hash__', '__init__', '__init_subclass__', '__le__', '__lt__', '__module__', '__ne__', '__new__', '__reduce__', '__reduce_ex__', '__repr__', '__setattr__', '__sizeof__', '__str__', '__subclasshook__', '__weakref__', 'age', 'country', 'grades', 'name', 'state']\n",
      "Singhal\n",
      "<class 'list'>\n"
     ]
    }
   ],
   "source": [
    "#built-in functions\n",
    "#create and access class\n",
    "class Person:\n",
    "    name=\"Singhal\"\n",
    "    age=20\n",
    "    country=\"India\"\n",
    "    state= \"Punjab\"\n",
    "    grades=[7.8,8.1,8.9,8.3,7.5]\n",
    "print(dir(Person)) #properties of class\n",
    "print(Person.name)\n",
    "print(type(Person.grades))"
   ]
  },
  {
   "cell_type": "code",
   "execution_count": 7,
   "id": "e0bf961e",
   "metadata": {},
   "outputs": [
    {
     "name": "stdout",
     "output_type": "stream",
     "text": [
      "The sum of the list is  27.1 .\n",
      "The length of the list is  5 .\n",
      "_________________________________\n",
      "< The round of value of  1.2  is  1 >\n",
      "< The round of value of  3.4  is  3 >\n",
      "< The round of value of  5.6  is  6 >\n",
      "< The round of value of  7.8  is  8 >\n",
      "< The round of value of  9.1  is  9 >\n"
     ]
    }
   ],
   "source": [
    "#built-in function \n",
    "#sum,round,len function\n",
    "a=[1.2,3.4,5.6,7.8,9.10]\n",
    "print(\"The sum of the list is \",sum(a),\".\")\n",
    "print(\"The length of the list is \",len(a),\".\")\n",
    "print(\"_________________________________\")\n",
    "for i in a:\n",
    "    print(\"< The round of value of \",i,\" is \",round(i),\">\")"
   ]
  },
  {
   "cell_type": "code",
   "execution_count": 8,
   "id": "868fd4c0",
   "metadata": {},
   "outputs": [
    {
     "name": "stdout",
     "output_type": "stream",
     "text": [
      "The average(actual value) of MADMIND gang age is :  19.428571428571427\n",
      "The average(round-of value) of MADMIND gang age is :  19\n"
     ]
    }
   ],
   "source": [
    "#user-defined function\n",
    "# creating a function to find average or mean\n",
    "def avg(l):\n",
    "    avg=sum(l)/len(l)\n",
    "    return avg\n",
    "our_ages=[19,20,19,20,19,20,19]\n",
    "print(\"The average(actual value) of MADMIND gang age is : \",avg(our_ages))\n",
    "print(\"The average(round-of value) of MADMIND gang age is : \",round(avg(our_ages)))"
   ]
  },
  {
   "cell_type": "code",
   "execution_count": 9,
   "id": "9268cb89",
   "metadata": {},
   "outputs": [
    {
     "name": "stdout",
     "output_type": "stream",
     "text": [
      "squares of the list is:  [2025, 2704, 169]\n"
     ]
    }
   ],
   "source": [
    "#call by reference\n",
    "def square(my_list):\n",
    "    \"This function will find the square of items in list\"\n",
    "    squares=[]\n",
    "    for i in my_list:\n",
    "        squares.append(i**2)\n",
    "    return squares\n",
    "list_=[45,52,13];\n",
    "result=square(list_)\n",
    "print(\"squares of the list is: \", result)"
   ]
  },
  {
   "cell_type": "code",
   "execution_count": 10,
   "id": "d65cd8a0",
   "metadata": {},
   "outputs": [
    {
     "name": "stdout",
     "output_type": "stream",
     "text": [
      "hi\n"
     ]
    }
   ],
   "source": [
    "#call by value\n",
    "a=\"hi\"\n",
    "print(a)"
   ]
  },
  {
   "cell_type": "code",
   "execution_count": 11,
   "id": "898527db",
   "metadata": {},
   "outputs": [
    {
     "name": "stdout",
     "output_type": "stream",
     "text": [
      "Enter the 1st value: 87\n",
      "Enter the 2nd value: 79\n",
      "The total value is  166\n"
     ]
    }
   ],
   "source": [
    "#lambda function\n",
    "lambda_=lambda argument1, argument2: argument1 + argument2;\n",
    "m=int(input(\"Enter the 1st value: \"))\n",
    "n=int(input(\"Enter the 2nd value: \"))\n",
    "print(\"The total value is \",lambda_(m,n))"
   ]
  },
  {
   "cell_type": "code",
   "execution_count": 12,
   "id": "bed2347a",
   "metadata": {},
   "outputs": [
    {
     "ename": "NameError",
     "evalue": "name 'process_time' is not defined",
     "output_type": "error",
     "traceback": [
      "\u001b[1;31m---------------------------------------------------------------------------\u001b[0m",
      "\u001b[1;31mNameError\u001b[0m                                 Traceback (most recent call last)",
      "\u001b[1;32m<ipython-input-12-f6ad6c8b31bf>\u001b[0m in \u001b[0;36m<module>\u001b[1;34m\u001b[0m\n\u001b[0;32m      6\u001b[0m \u001b[1;31m#list\u001b[0m\u001b[1;33m\u001b[0m\u001b[1;33m\u001b[0m\u001b[1;33m\u001b[0m\u001b[0m\n\u001b[0;32m      7\u001b[0m \u001b[0mplist\u001b[0m\u001b[1;33m=\u001b[0m\u001b[1;33m[\u001b[0m\u001b[0mi\u001b[0m \u001b[1;32mfor\u001b[0m \u001b[0mi\u001b[0m \u001b[1;32min\u001b[0m \u001b[0mrange\u001b[0m\u001b[1;33m(\u001b[0m\u001b[1;36m1000\u001b[0m\u001b[1;33m)\u001b[0m\u001b[1;33m]\u001b[0m\u001b[1;33m\u001b[0m\u001b[1;33m\u001b[0m\u001b[0m\n\u001b[1;32m----> 8\u001b[1;33m \u001b[0mstart_time\u001b[0m\u001b[1;33m=\u001b[0m\u001b[0mprocess_time\u001b[0m\u001b[1;33m(\u001b[0m\u001b[1;33m)\u001b[0m\u001b[1;33m\u001b[0m\u001b[1;33m\u001b[0m\u001b[0m\n\u001b[0m\u001b[0;32m      9\u001b[0m \u001b[0mplist\u001b[0m\u001b[1;33m=\u001b[0m\u001b[1;33m[\u001b[0m\u001b[0mi\u001b[0m\u001b[1;33m+\u001b[0m\u001b[1;36m5\u001b[0m \u001b[1;32mfor\u001b[0m \u001b[0mi\u001b[0m \u001b[1;32min\u001b[0m \u001b[0mrange\u001b[0m\u001b[1;33m(\u001b[0m\u001b[1;36m1000\u001b[0m\u001b[1;33m)\u001b[0m\u001b[1;33m]\u001b[0m\u001b[1;33m\u001b[0m\u001b[1;33m\u001b[0m\u001b[0m\n\u001b[0;32m     10\u001b[0m \u001b[0mend_time\u001b[0m\u001b[1;33m=\u001b[0m\u001b[0mprocess_time\u001b[0m\u001b[1;33m(\u001b[0m\u001b[1;33m)\u001b[0m\u001b[1;33m\u001b[0m\u001b[1;33m\u001b[0m\u001b[0m\n",
      "\u001b[1;31mNameError\u001b[0m: name 'process_time' is not defined"
     ]
    }
   ],
   "source": [
    "#numpy\n",
    "import numpy as np\n",
    "\n",
    "#why numpy over list:\n",
    "\n",
    "#list\n",
    "plist=[i for i in range(1000)]\n",
    "start_time=process_time()\n",
    "plist=[i+5 for i in range(1000)]\n",
    "end_time=process_time()\n",
    "print(\"the time taken by list is: \",end_time - start_time)\n",
    "\n",
    "#numpy\n",
    "plist=np.array([i for i in range(1000)])\n",
    "start_time=process_time()\n",
    "plist += 5\n",
    "end_time=process_time()\n",
    "print(\"the time taken by numpy is: \",end_time - start_time)"
   ]
  },
  {
   "cell_type": "code",
   "execution_count": 13,
   "id": "a5daa653",
   "metadata": {
    "scrolled": true
   },
   "outputs": [
    {
     "name": "stdout",
     "output_type": "stream",
     "text": [
      "(5,)\n",
      "(2, 5)\n",
      "(3, 5)\n"
     ]
    }
   ],
   "source": [
    "#np arrays\n",
    "\n",
    "#1d array\n",
    "a=np.array([1,2,3,4,5])\n",
    "print(a.shape)\n",
    "\n",
    "#2d array\n",
    "b=np.array([(1,2,3,4,5),(6,7,8,9,10)])\n",
    "print(b.shape)\n",
    "\n",
    "#3d array\n",
    "c=np.array([(1,2,3,4,5),(6,7,8,9,10),(11,12,13,14,15)])\n",
    "print(c.shape)"
   ]
  },
  {
   "cell_type": "code",
   "execution_count": 14,
   "id": "6948f4b6",
   "metadata": {},
   "outputs": [
    {
     "name": "stdout",
     "output_type": "stream",
     "text": [
      "[[0. 0. 0. 0. 0.]\n",
      " [0. 0. 0. 0. 0.]\n",
      " [0. 0. 0. 0. 0.]\n",
      " [0. 0. 0. 0. 0.]]\n",
      "_________________\n",
      "[[1. 1. 1. 1.]\n",
      " [1. 1. 1. 1.]\n",
      " [1. 1. 1. 1.]]\n",
      "_________________\n",
      "[[6 6 6]\n",
      " [6 6 6]]\n",
      "_________________\n",
      "[[1. 0. 0. 0. 0.]\n",
      " [0. 1. 0. 0. 0.]\n",
      " [0. 0. 1. 0. 0.]\n",
      " [0. 0. 0. 1. 0.]\n",
      " [0. 0. 0. 0. 1.]]\n"
     ]
    }
   ],
   "source": [
    "#create matrix \n",
    "\n",
    "x=np.zeros((4,5)) #zero matrix\n",
    "print(x)\n",
    "print(\"_________________\")\n",
    "y=np.ones((3,4)) #ones matrix\n",
    "print(y)\n",
    "print(\"_________________\")\n",
    "z=np.full((2,3),6) # same element matrix\n",
    "print(z)\n",
    "print(\"_________________\")\n",
    "v=np.eye(5)#identical matrix\n",
    "print(v)"
   ]
  },
  {
   "cell_type": "code",
   "execution_count": null,
   "id": "8531a385",
   "metadata": {},
   "outputs": [],
   "source": []
  }
 ],
 "metadata": {
  "kernelspec": {
   "display_name": "Python 3",
   "language": "python",
   "name": "python3"
  },
  "language_info": {
   "codemirror_mode": {
    "name": "ipython",
    "version": 3
   },
   "file_extension": ".py",
   "mimetype": "text/x-python",
   "name": "python",
   "nbconvert_exporter": "python",
   "pygments_lexer": "ipython3",
   "version": "3.8.8"
  }
 },
 "nbformat": 4,
 "nbformat_minor": 5
}
