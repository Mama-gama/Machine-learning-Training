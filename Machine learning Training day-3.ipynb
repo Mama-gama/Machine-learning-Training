{
 "cells": [
  {
   "cell_type": "code",
   "execution_count": 4,
   "id": "0300407f",
   "metadata": {},
   "outputs": [
    {
     "name": "stdout",
     "output_type": "stream",
     "text": [
      "a:\n",
      "[[2 3 1]\n",
      " [9 2 2]\n",
      " [7 1 3]]\n",
      "b:\n",
      "[[15 19 15]\n",
      " [16 10 12]\n",
      " [13 16 17]]\n",
      "a+b:\n",
      "[[17 22 16]\n",
      " [25 12 14]\n",
      " [20 17 20]]\n",
      "a-b:\n",
      "[[-13 -16 -14]\n",
      " [ -7  -8 -10]\n",
      " [ -6 -15 -14]]\n",
      "a*b:\n",
      "[[ 30  57  15]\n",
      " [144  20  24]\n",
      " [ 91  16  51]]\n",
      "a/b:\n",
      "[[0.13333333 0.15789474 0.06666667]\n",
      " [0.5625     0.2        0.16666667]\n",
      " [0.53846154 0.0625     0.17647059]]\n",
      "sum of a&b:\n",
      "[[17 22 16]\n",
      " [25 12 14]\n",
      " [20 17 20]]\n",
      "difference of a&b:\n",
      "[[-13 -16 -14]\n",
      " [ -7  -8 -10]\n",
      " [ -6 -15 -14]]\n",
      "product of a&b:\n",
      "[[ 30  57  15]\n",
      " [144  20  24]\n",
      " [ 91  16  51]]\n",
      "ratio of a&b:\n",
      "[[0.13333333 0.15789474 0.06666667]\n",
      " [0.5625     0.2        0.16666667]\n",
      " [0.53846154 0.0625     0.17647059]]\n"
     ]
    }
   ],
   "source": [
    "#mathematical operations in numpy\n",
    "\n",
    "import numpy as np\n",
    "import random\n",
    "\n",
    "a=np.random.randint(0,10,(3,3))\n",
    "b=np.random.randint(10,20,(3,3))\n",
    "print(\"a:\")\n",
    "print(a)\n",
    "print(\"b:\")\n",
    "print(b)\n",
    "\n",
    "#using operators\n",
    "print(\"a+b:\")\n",
    "print(a+b)\n",
    "print(\"a-b:\")\n",
    "print(a-b)\n",
    "print(\"a*b:\")\n",
    "print(a*b)\n",
    "print(\"a/b:\")\n",
    "print(a/b)\n",
    "\n",
    "#other-wise:\n",
    "print(\"sum of a&b:\")\n",
    "print(np.add(a,b))\n",
    "print(\"difference of a&b:\")\n",
    "print(np.subtract(a,b))\n",
    "print(\"product of a&b:\")\n",
    "print(np.multiply(a,b))\n",
    "print(\"ratio of a&b:\")\n",
    "print(np.divide(a,b))"
   ]
  },
  {
   "cell_type": "code",
   "execution_count": 10,
   "id": "b8c3545b",
   "metadata": {},
   "outputs": [
    {
     "name": "stdout",
     "output_type": "stream",
     "text": [
      "orginal array\n",
      "[[1 7 7]\n",
      " [2 6 1]]\n",
      "transposed array\n",
      "[[1 2]\n",
      " [7 6]\n",
      " [7 1]]\n",
      "Re-shaped array\n",
      "[[1 7]\n",
      " [7 2]\n",
      " [6 1]]\n"
     ]
    }
   ],
   "source": [
    "#transpose\n",
    "array=np.random.randint(1,8,(2,3))\n",
    "trans=np.transpose(array)\n",
    "b=array.reshape(3,2)\n",
    "print(\"orginal array\")\n",
    "print(array)\n",
    "print(\"transposed array\")\n",
    "print(trans)\n",
    "print(\"Re-shaped array\")\n",
    "print(b)"
   ]
  },
  {
   "cell_type": "code",
   "execution_count": 4,
   "id": "3411f175",
   "metadata": {
    "scrolled": true
   },
   "outputs": [
    {
     "name": "stdout",
     "output_type": "stream",
     "text": [
      "   Unnamed: 0                              Movie    Year  \\\n",
      "0           0                           Eternals  2021.0   \n",
      "1           1                               Loki  2021.0   \n",
      "2           2  The Falcon and the Winter Soldier  2021.0   \n",
      "3           3                        WandaVision  2021.0   \n",
      "4           4            Spider-Man: No Way Home  2021.0   \n",
      "5           5                        Black Widow  2021.0   \n",
      "6           6                  Avengers: Endgame  2019.0   \n",
      "7           7            Guardians of the Galaxy  2014.0   \n",
      "8           8             Thor: Love and Thunder  2022.0   \n",
      "9           9          Spider-Man: Far from Home  2019.0   \n",
      "\n",
      "                      Genre  RunTime Rating               Director  \\\n",
      "0    Action,Adventure,Drama      NaN    NaN              ChloéZhao   \n",
      "1  Action,Adventure,Fantasy      NaN    NaN                    NaN   \n",
      "2    Action,Adventure,Drama   50 min  TV-14                    NaN   \n",
      "3       Action,Comedy,Drama  350 min  TV-PG                    NaN   \n",
      "4   Action,Adventure,Sci-Fi      NaN    NaN               JonWatts   \n",
      "5   Action,Adventure,Sci-Fi  133 min  PG-13          CateShortland   \n",
      "6    Action,Adventure,Drama  181 min  PG-13  AnthonyRusso,JoeRusso   \n",
      "7   Action,Adventure,Comedy  121 min    NaN              JamesGunn   \n",
      "8  Action,Adventure,Fantasy      NaN  PG-13           TaikaWaititi   \n",
      "9   Action,Adventure,Sci-Fi  129 min  PG-13               JonWatts   \n",
      "\n",
      "                                               Actor  \\\n",
      "0  AngelinaJolie,GemmaChan,RichardMadden,BarryKeo...   \n",
      "1  TomHiddleston,OwenWilson,SophiaDiMartino,Richa...   \n",
      "2  AnthonyMackie,SebastianStan,WyattRussell,ErinK...   \n",
      "3  ElizabethOlsen,PaulBettany,KathrynHahn,Teyonah...   \n",
      "4        AngourieRice,TomHolland,Zendaya,MarisaTomei   \n",
      "5  ScarlettJohansson,FlorencePugh,DavidHarbour,Ra...   \n",
      "6  RobertDowneyJr.,ChrisEvans,MarkRuffalo,ChrisHe...   \n",
      "7      ChrisPratt,VinDiesel,BradleyCooper,ZoeSaldana   \n",
      "8  ChrisPratt,KarenGillan,TaikaWaititi,TessaThompson   \n",
      "9  TomHolland,SamuelL.Jackson,JakeGyllenhaal,Mari...   \n",
      "\n",
      "                                         Description  IMDB_Score  Metascore  \\\n",
      "0  The saga of the Eternals, a race of immortal b...         7.0        NaN   \n",
      "1      A new Marvel chapter with Loki at its center.         6.9        NaN   \n",
      "2  Following the events of 'Avengers: Endgame,' S...         7.5        NaN   \n",
      "3  Blends the style of classic sitcoms with the M...         8.1        NaN   \n",
      "4       A continuation of Spider-Man: Far From Home.         NaN        NaN   \n",
      "5  A film about Natasha Romanoff in her quests be...         NaN        NaN   \n",
      "6  After the devastating events of Avengers: Infi...         8.4       78.0   \n",
      "7  A group of intergalactic criminals must pull t...         8.0       76.0   \n",
      "8  The sequel to Thor: Ragnarok and the fourth mo...         NaN        NaN   \n",
      "9  Following the events of Avengers: Endgame (201...         7.5       69.0   \n",
      "\n",
      "       Votes USA_Gross Category  \n",
      "0        NaN       NaN   Marvel  \n",
      "1        NaN       NaN   Marvel  \n",
      "2   1,05,557       NaN   Marvel  \n",
      "3   1,74,710       NaN   Marvel  \n",
      "4        NaN       NaN   Marvel  \n",
      "5        NaN       NaN   Marvel  \n",
      "6   8,80,911  $858.37M   Marvel  \n",
      "7  10,66,222  $333.18M   Marvel  \n",
      "8        NaN       NaN   Marvel  \n",
      "9   3,48,047  $390.53M   Marvel  \n",
      "(1690, 14)\n",
      "IMDB_Score\n",
      "8.1    86\n",
      "8.2    82\n",
      "8.6    79\n",
      "8.0    76\n",
      "8.4    72\n",
      "7.9    70\n",
      "7.8    64\n",
      "8.3    62\n",
      "8.5    62\n",
      "7.7    61\n",
      "7.4    51\n",
      "7.5    50\n",
      "7.6    49\n",
      "8.7    49\n",
      "7.3    46\n",
      "8.8    41\n",
      "7.0    41\n",
      "7.2    39\n",
      "9.0    38\n",
      "9.1    37\n",
      "6.9    31\n",
      "7.1    29\n",
      "6.8    26\n",
      "8.9    23\n",
      "9.2    23\n",
      "6.5    22\n",
      "6.4    17\n",
      "6.2    15\n",
      "6.7    15\n",
      "6.1    15\n",
      "9.3    13\n",
      "6.0    12\n",
      "6.6    11\n",
      "6.3    10\n",
      "5.6     9\n",
      "5.9     9\n",
      "5.7     9\n",
      "9.5     8\n",
      "5.5     6\n",
      "5.4     5\n",
      "9.4     4\n",
      "9.6     3\n",
      "5.8     3\n",
      "5.0     3\n",
      "5.2     2\n",
      "3.4     1\n",
      "5.1     1\n",
      "4.9     1\n",
      "4.7     1\n",
      "4.6     1\n",
      "4.4     1\n",
      "4.0     1\n",
      "3.8     1\n",
      "3.5     1\n",
      "1.1     1\n",
      "dtype: int64\n"
     ]
    }
   ],
   "source": [
    "#read csv\n",
    "import csv\n",
    "import pandas as pd\n",
    "db=pd.read_csv('/Users/admin/Desktop/Folder/ML Training/Marvel_DC_imdb.csv')\n",
    "print(db.head(10))\n",
    "print(db.shape)\n",
    "print(db.value_counts('IMDB_Score'))"
   ]
  },
  {
   "cell_type": "code",
   "execution_count": 5,
   "id": "73aa5487",
   "metadata": {},
   "outputs": [],
   "source": [
    "#read files:\n",
    "\n",
    "    #pd.read_csv()\n",
    "    #pd.read_excel()\n",
    "    #pd.read_pdf()\n",
    "\n",
    "#converting dataframe:\n",
    "\n",
    "    #df.to_csv('df.csv')\n",
    "    #df.to_excel('df.xlsx')\n",
    "    \n",
    "#to check missing values:\n",
    "    #df.isnull().sum()\n",
    "#to count values of a column:\n",
    "    #df.value_counts('column name')\n"
   ]
  },
  {
   "cell_type": "code",
   "execution_count": 9,
   "id": "48e0bed4",
   "metadata": {},
   "outputs": [
    {
     "name": "stdout",
     "output_type": "stream",
     "text": [
      "[ 0.          0.1010101   0.2020202   0.3030303   0.4040404   0.50505051\n",
      "  0.60606061  0.70707071  0.80808081  0.90909091  1.01010101  1.11111111\n",
      "  1.21212121  1.31313131  1.41414141  1.51515152  1.61616162  1.71717172\n",
      "  1.81818182  1.91919192  2.02020202  2.12121212  2.22222222  2.32323232\n",
      "  2.42424242  2.52525253  2.62626263  2.72727273  2.82828283  2.92929293\n",
      "  3.03030303  3.13131313  3.23232323  3.33333333  3.43434343  3.53535354\n",
      "  3.63636364  3.73737374  3.83838384  3.93939394  4.04040404  4.14141414\n",
      "  4.24242424  4.34343434  4.44444444  4.54545455  4.64646465  4.74747475\n",
      "  4.84848485  4.94949495  5.05050505  5.15151515  5.25252525  5.35353535\n",
      "  5.45454545  5.55555556  5.65656566  5.75757576  5.85858586  5.95959596\n",
      "  6.06060606  6.16161616  6.26262626  6.36363636  6.46464646  6.56565657\n",
      "  6.66666667  6.76767677  6.86868687  6.96969697  7.07070707  7.17171717\n",
      "  7.27272727  7.37373737  7.47474747  7.57575758  7.67676768  7.77777778\n",
      "  7.87878788  7.97979798  8.08080808  8.18181818  8.28282828  8.38383838\n",
      "  8.48484848  8.58585859  8.68686869  8.78787879  8.88888889  8.98989899\n",
      "  9.09090909  9.19191919  9.29292929  9.39393939  9.49494949  9.5959596\n",
      "  9.6969697   9.7979798   9.8989899  10.        ]\n"
     ]
    }
   ],
   "source": [
    "import numpy as np\n",
    "x=np.linspace(0,10,100)\n",
    "print(x)"
   ]
  },
  {
   "cell_type": "code",
   "execution_count": 17,
   "id": "816f3052",
   "metadata": {},
   "outputs": [
    {
     "data": {
      "text/plain": [
       "[<matplotlib.lines.Line2D at 0x2244c75ff70>]"
      ]
     },
     "execution_count": 17,
     "metadata": {},
     "output_type": "execute_result"
    },
    {
     "data": {
      "image/png": "[encoded data removed]",
      "text/plain": [
       "<Figure size 432x288 with 1 Axes>"
      ]
     },
     "metadata": {
      "needs_background": "light"
     },
     "output_type": "display_data"
    }
   ],
   "source": [
    "import matplotlib.pyplot as plt\n",
    "x=np.linspace(0,10,30)\n",
    "y=np.sin(x)\n",
    "z=np.cos(x)\n",
    "fig2=plt.figure()\n",
    "ax=fig2.add_axes([0,0,1,1])\n",
    "ax.scatter(x,y,color='b')\n",
    "ax.plot(x,z,c='g',marker='*')"
   ]
  },
  {
   "cell_type": "code",
   "execution_count": 23,
   "id": "8e2a36db",
   "metadata": {},
   "outputs": [
    {
     "data": {
      "image/png": "[encoded data removed]",
      "text/plain": [
       "<Figure size 432x288 with 1 Axes>"
      ]
     },
     "metadata": {
      "needs_background": "light"
     },
     "output_type": "display_data"
    }
   ],
   "source": [
    "#3d plotting\n",
    "fig3=plt.figure()\n",
    "ax=plt.axes(projection='3d')\n",
    "z=20*np.random.random(100)\n",
    "x=np.sin(z)\n",
    "y=np.cos(z)\n",
    "ax.scatter(x,y,z,c=z,cmap='Blues')\n",
    "plt.show()"
   ]
  },
  {
   "cell_type": "code",
   "execution_count": 7,
   "id": "947a8ec1",
   "metadata": {},
   "outputs": [
    {
     "data": {
      "text/plain": [
       "['anagrams',\n",
       " 'anscombe',\n",
       " 'attention',\n",
       " 'brain_networks',\n",
       " 'car_crashes',\n",
       " 'diamonds',\n",
       " 'dots',\n",
       " 'exercise',\n",
       " 'flights',\n",
       " 'fmri',\n",
       " 'gammas',\n",
       " 'geyser',\n",
       " 'iris',\n",
       " 'mpg',\n",
       " 'penguins',\n",
       " 'planets',\n",
       " 'taxis',\n",
       " 'tips',\n",
       " 'titanic']"
      ]
     },
     "execution_count": 7,
     "metadata": {},
     "output_type": "execute_result"
    }
   ],
   "source": [
    "import seaborn as sns\n",
    "sns.get_dataset_names()"
   ]
  },
  {
   "cell_type": "code",
   "execution_count": null,
   "id": "09da2f21",
   "metadata": {},
   "outputs": [],
   "source": []
  }
 ],
 "metadata": {
  "kernelspec": {
   "display_name": "Python 3",
   "language": "python",
   "name": "python3"
  },
  "language_info": {
   "codemirror_mode": {
    "name": "ipython",
    "version": 3
   },
   "file_extension": ".py",
   "mimetype": "text/x-python",
   "name": "python",
   "nbconvert_exporter": "python",
   "pygments_lexer": "ipython3",
   "version": "3.8.8"
  }
 },
 "nbformat": 4,
 "nbformat_minor": 5
}
